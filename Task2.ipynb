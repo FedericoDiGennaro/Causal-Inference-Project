{
 "cells": [
  {
   "cell_type": "code",
   "execution_count": 4,
   "id": "e0136bf5",
   "metadata": {},
   "outputs": [
    {
     "name": "stdout",
     "output_type": "stream",
     "text": [
      "The autoreload extension is already loaded. To reload it, use:\n",
      "  %reload_ext autoreload\n"
     ]
    }
   ],
   "source": [
    "# Import useful libraries\n",
    "import numpy as np\n",
    "from ci_test import ci_test\n",
    "from scipy.io import loadmat\n",
    "import networkx as nx\n",
    "from itertools import chain, combinations, permutations\n",
    "from helpers import *\n",
    "from collections import deque\n",
    "from copy import copy\n",
    "from matplotlib import pyplot as plt\n",
    "from networkx.algorithms.connectivity import minimum_st_node_cut\n",
    "\n",
    "\n",
    "from sklearn.metrics import f1_score\n",
    "import matplotlib.pyplot as plt\n",
    "\n",
    "%load_ext autoreload\n",
    "%autoreload 2"
   ]
  },
  {
   "cell_type": "code",
   "execution_count": 2,
   "id": "17af0d00",
   "metadata": {},
   "outputs": [
    {
     "data": {
      "text/plain": [
       "{'s', 't', 'w', 'z'}"
      ]
     },
     "execution_count": 2,
     "metadata": {},
     "output_type": "execute_result"
    }
   ],
   "source": [
    "nodes = ['z','t','s','w']\n",
    "G_b = nx.Graph()\n",
    "G_d = nx.DiGraph()\n",
    "for node in nodes:\n",
    "    G_b.add_node(node)\n",
    "    G_d.add_node(node)\n",
    "G_d.add_edge('z','t')\n",
    "G_d.add_edge('w','t')\n",
    "G_d.add_edge('t','s')\n",
    "\n",
    "G_b.add_edge('z','s')\n",
    "G_b.add_edge('z','t')\n",
    "G_b.add_edge('t','w')\n",
    "G_b.add_edge('w','s')\n",
    "HHull(G_d, G_b, {'s'})"
   ]
  },
  {
   "cell_type": "code",
   "execution_count": 9,
   "id": "fc79ee36",
   "metadata": {},
   "outputs": [
    {
     "data": {
      "text/plain": [
       "{'t'}"
      ]
     },
     "execution_count": 9,
     "metadata": {},
     "output_type": "execute_result"
    }
   ],
   "source": [
    "costs = {'z':2, 'w':2, 't':3, 's':1}\n",
    "\n",
    "MinCostIntervention({'s'},G_d, G_b,costs)"
   ]
  },
  {
   "cell_type": "code",
   "execution_count": 16,
   "id": "2f6efe31",
   "metadata": {},
   "outputs": [],
   "source": [
    "def min_nodes_cut(G,source_set,S,weights):\n",
    "    \n",
    "    weighted_edges_graph = nx.DiGraph()\n",
    "\n",
    "    for node in source_set:\n",
    "        weighted_edges_graph.add_edge('x',str(node)+'_in',capacity = np.inf)\n",
    "    \n",
    "    for node in S:\n",
    "        weighted_edges_graph.add_edge(str(node)+'_in',str(node)+'_out',capacity = np.inf)\n",
    "        weighted_edges_graph.add_edge(str(node)+'_out','y',capacity = np.inf)\n",
    "\n",
    "    for node in G.nodes - S:\n",
    "        weighted_edges_graph.add_edge(str(node)+'_in',str(node)+'_out',capacity=weights[node])\n",
    "        for neighbor in G.adj[node]:\n",
    "            weighted_edges_graph.add_edge(str(node)+'_out',str(neighbor)+'_in',capacity = np.inf)\n",
    "\n",
    "    cost, cut_sets = nx.minimum_cut(weighted_edges_graph,'x','y')\n",
    "\n",
    "    setA , setB = cut_sets\n",
    "\n",
    "    cut_set = set()\n",
    "    for node in G.nodes - S:\n",
    "        if (str(node)+'_in' in setA and str(node)+'_out' in setB) or (str(node)+'_in' in setB and str(node)+'_out' in setA):\n",
    "            cut_set = cut_set.union(node)\n",
    "            \n",
    "    return (cost,cut_set)"
   ]
  },
  {
   "cell_type": "code",
   "execution_count": 61,
   "id": "81bbb0a3",
   "metadata": {},
   "outputs": [],
   "source": [
    "def heuristic_algorithm(G_directed, G_bidirected, S, costs): # taken from Sina's paper\n",
    "    \n",
    "    # we need to move from min weith vertex cut to min weight edge cut and solve it with min flow max cut\n",
    "    \n",
    "    H = HHull(G_directed, G_bidirected, S)\n",
    "    \n",
    "    #cal_H, pa_inter_H, pa_double = initialize_cal_H(G_directed, G_bidirected, S)\n",
    "    \n",
    "    new_costs = {key:value for key,value in costs.items() if key not in S}\n",
    "    \n",
    "    pa_S = set()\n",
    "    \n",
    "    for node in S:\n",
    "        pa_S = pa_S.union(set(G_directed.predecessors(node)))\n",
    "    \n",
    "    pa_inter_H = H & pa_S\n",
    "    \n",
    "    cost, cut_set = min_nodes_cut(G_bidirected.subgraph(H), pa_inter_H, S, new_costs)\n",
    "    \n",
    "    return A\n",
    "    \n",
    "    \n",
    "    \n",
    "    \n",
    "    \n",
    "    "
   ]
  },
  {
   "cell_type": "code",
   "execution_count": 62,
   "id": "aa8a0a5c",
   "metadata": {},
   "outputs": [
    {
     "name": "stdout",
     "output_type": "stream",
     "text": [
      "{'z', 't', 's', 'w'}\n",
      "{'t'}\n",
      "{'t'}\n"
     ]
    }
   ],
   "source": [
    "gd = nx.DiGraph()\n",
    "gu = nx.Graph()\n",
    "\n",
    "\n",
    "# Add nodes\n",
    "gd.add_nodes_from([ 'z', 't', 's','w'])\n",
    "gu.add_nodes_from([ 'z', 't', 's','w'])\n",
    "\n",
    "\n",
    "# Add edges\n",
    "gd.add_edges_from([('z', 't'), ('w','t'),('t', 's')])\n",
    "gu.add_edges_from([('z', 't'),('w','t',),('w','s'),('z','s')])\n",
    "\n",
    "weights = {'z':2,'w':2,'t':3}\n",
    "#MinCostIntervention(S, gd, gu, weights)\n",
    "\n",
    "S = {'s'}\n",
    "H = HHull(gd,gu,S)\n",
    "print(H)\n",
    "H1 = H & set(gd.predecessors('s'))\n",
    "print(H1)\n",
    "\n",
    "cost,A = min_nodes_cut(gu,H1,S, weights)\n",
    "\n",
    "#Sanity check\n",
    "gd_test = gd.copy()\n",
    "for node in A:\n",
    "    parents = list(gd_test.predecessors(node))\n",
    "\n",
    "    # Remove edges from the parents\n",
    "    for parent in parents:\n",
    "        gd_test.remove_edge(parent, node)\n",
    "        \n",
    "#HHull(S,gd_test,gu)\n",
    "print(A)"
   ]
  },
  {
   "cell_type": "code",
   "execution_count": 63,
   "id": "ef6ce415",
   "metadata": {},
   "outputs": [
    {
     "data": {
      "text/plain": [
       "{'t'}"
      ]
     },
     "execution_count": 63,
     "metadata": {},
     "output_type": "execute_result"
    }
   ],
   "source": [
    "heuristic_algorithm(G_d, G_b, {'s'}, costs)"
   ]
  }
 ],
 "metadata": {
  "kernelspec": {
   "display_name": "Python 3 (ipykernel)",
   "language": "python",
   "name": "python3"
  },
  "language_info": {
   "codemirror_mode": {
    "name": "ipython",
    "version": 3
   },
   "file_extension": ".py",
   "mimetype": "text/x-python",
   "name": "python",
   "nbconvert_exporter": "python",
   "pygments_lexer": "ipython3",
   "version": "3.9.16"
  }
 },
 "nbformat": 4,
 "nbformat_minor": 5
}
