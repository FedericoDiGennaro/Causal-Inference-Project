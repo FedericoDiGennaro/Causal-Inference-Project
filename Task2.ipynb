{
 "cells": [
  {
   "cell_type": "code",
   "execution_count": 1,
   "id": "e0136bf5",
   "metadata": {},
   "outputs": [],
   "source": [
    "# Import useful libraries\n",
    "import numpy as np\n",
    "from ci_test import ci_test\n",
    "from scipy.io import loadmat\n",
    "import networkx as nx\n",
    "from itertools import chain, combinations, permutations\n",
    "from helpers import *\n",
    "from collections import deque\n",
    "from copy import copy\n",
    "from matplotlib import pyplot as plt\n",
    "\n",
    "from sklearn.metrics import f1_score\n",
    "import matplotlib.pyplot as plt\n",
    "\n",
    "%load_ext autoreload\n",
    "%autoreload 2"
   ]
  },
  {
   "cell_type": "code",
   "execution_count": 27,
   "id": "24b98684",
   "metadata": {},
   "outputs": [
    {
     "data": {
      "text/plain": [
       "{'s', 't', 'w', 'z'}"
      ]
     },
     "execution_count": 27,
     "metadata": {},
     "output_type": "execute_result"
    }
   ],
   "source": [
    "nodes = ['z','t','s','w']\n",
    "G_b = nx.Graph()\n",
    "G_d = nx.DiGraph()\n",
    "for node in nodes:\n",
    "    G_b.add_node(node)\n",
    "    G_d.add_node(node)\n",
    "G_d.add_edge('z','t')\n",
    "G_d.add_edge('w','t')\n",
    "G_d.add_edge('t','s')\n",
    "\n",
    "G_b.add_edge('z','s')\n",
    "G_b.add_edge('z','t')\n",
    "G_b.add_edge('t','w')\n",
    "G_b.add_edge('w','s')\n",
    "HHull(G_d, G_b, {'s'})"
   ]
  },
  {
   "cell_type": "code",
   "execution_count": null,
   "id": "b5972b4d",
   "metadata": {},
   "outputs": [],
   "source": [
    "costs = {'z':2, 'w':2, 't':3, 's':1}\n",
    "\n",
    "MinCostIntervention({'s'},G_d, G_b,costs)"
   ]
  },
  {
   "cell_type": "code",
   "execution_count": null,
   "id": "9e9c684b",
   "metadata": {},
   "outputs": [],
   "source": [
    "def heuristic_algorithm(G_directed, G_bidirected, S, costs): # taken from Sina's paper\n",
    "    \n",
    "    # we need to move from min weith vertex cut to min weight edge cut and solve it with min flow max cut\n",
    "    \n",
    "    \n",
    "    H = HHull(G_directed, G_bidirected, S)\n",
    "    \n",
    "    x,y = ...\n",
    "    \n",
    "    cal_H = H.union({x,y})\n",
    "    \n",
    "    #node_pairs = [list(elem) for elem in combinations(H, 2)] #(v1, v2)\n",
    "    \n",
    "    #connected_pairs = [pair for pair in node_pairs if (pair[0], pair[1]) in G.bidirected.edges()]\n",
    "    new_G = G_bidirected.subgraph(cal_H)\n",
    "    \n",
    "    \n",
    "    \n",
    "    \n",
    "    \n",
    "    \n",
    "    \n",
    "    "
   ]
  },
  {
   "cell_type": "code",
   "execution_count": 25,
   "id": "d8caa2b6",
   "metadata": {},
   "outputs": [],
   "source": [
    "def MinCostIntervention(S, G_directed, G_bidirected, costs):\n",
    "    \n",
    "    F = set()\n",
    "    \n",
    "    V = set(G_directed.nodes())\n",
    "    \n",
    "    H = HHull(G_directed, G_bidirected,S)\n",
    "    \n",
    "    if H == S:\n",
    "        \n",
    "        return set()\n",
    "    \n",
    "    while True:\n",
    "        \n",
    "        while True:\n",
    "            \n",
    "            H_minus_S = H - S\n",
    "            \n",
    "            # Solving argmin of costs problem           \n",
    "            argmin = None\n",
    "            min_cost = sum(costs.values())\n",
    "            for node in H_minus_S:\n",
    "                if costs[node] <  min_cost:\n",
    "                    argmin = node\n",
    "                    min_cost = costs[node]\n",
    "            argmin = set(argmin)\n",
    "            \n",
    "            H_minus_argmin = H - argmin\n",
    "            G_directed_H_minus_argmin = G_directed.subgraph(H_minus_argmin)\n",
    "            G_bidirected_H_minus_argmin = G_bidirected.subgraph(H_minus_argmin) \n",
    "            \n",
    "            new_hull = HHull(G_directed_H_minus_argmin, G_bidirected_H_minus_argmin, S)\n",
    "            \n",
    "            if new_hull == S:\n",
    "                \n",
    "                F = F.union(H)\n",
    "            \n",
    "            else:\n",
    "                \n",
    "                H = new_hull\n",
    "                \n",
    "        power_set_of_F = list(chain.from_iterable(combinations(F, r) for r in range(len(F)+1)))\n",
    "        set_of_sets = []\n",
    "        for elem in power_set_of_F:\n",
    "            new_elem = set(elem) - S\n",
    "            if new_elem not in set_of_sets:\n",
    "                set_of_sets.append(new_elem)\n",
    "                \n",
    "        A = WMHS(set_of_sets, costs)\n",
    "        \n",
    "        V_minus_A = V - A\n",
    "        G_directed_V_minus_A = G_directed.subgraph(V_minus_A)\n",
    "        G_bidirected_V_minus_A = G_bidirected.subgraph(V_minus_A) \n",
    "        new_hull = HHull(G_directed_V_minus_A, G_bidirected_V_minus_A, S)\n",
    "        \n",
    "        if new_hull == S:\n",
    "            \n",
    "            return A\n",
    "        \n",
    "        H = new_hull"
   ]
  }
 ],
 "metadata": {
  "kernelspec": {
   "display_name": "Python 3 (ipykernel)",
   "language": "python",
   "name": "python3"
  },
  "language_info": {
   "codemirror_mode": {
    "name": "ipython",
    "version": 3
   },
   "file_extension": ".py",
   "mimetype": "text/x-python",
   "name": "python",
   "nbconvert_exporter": "python",
   "pygments_lexer": "ipython3",
   "version": "3.9.16"
  }
 },
 "nbformat": 4,
 "nbformat_minor": 5
}
