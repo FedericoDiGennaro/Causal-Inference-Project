{
 "cells": [
  {
   "cell_type": "markdown",
   "id": "511dba51",
   "metadata": {},
   "source": [
    "# EXPERIMENTAL DESIGN FOR CAUSAL EFFECT IDENTIFICATION"
   ]
  },
  {
   "cell_type": "markdown",
   "id": "b5185bd9",
   "metadata": {},
   "source": [
    "We import some useful libraries."
   ]
  },
  {
   "cell_type": "code",
   "execution_count": 94,
   "id": "e0136bf5",
   "metadata": {},
   "outputs": [
    {
     "name": "stdout",
     "output_type": "stream",
     "text": [
      "The autoreload extension is already loaded. To reload it, use:\n",
      "  %reload_ext autoreload\n"
     ]
    }
   ],
   "source": [
    "# Import useful libraries\n",
    "import numpy as np\n",
    "from ci_test import ci_test\n",
    "from scipy.io import loadmat\n",
    "import networkx as nx\n",
    "from itertools import chain, combinations, permutations\n",
    "from helpers import *\n",
    "from collections import deque\n",
    "from copy import copy\n",
    "from matplotlib import pyplot as plt\n",
    "import time\n",
    "\n",
    "\n",
    "from sklearn.metrics import f1_score\n",
    "import matplotlib.pyplot as plt\n",
    "\n",
    "%load_ext autoreload\n",
    "%autoreload 2"
   ]
  },
  {
   "cell_type": "markdown",
   "id": "b0420717",
   "metadata": {},
   "source": [
    "We manually create the toy model on which we are going to test the functions implemented in helpers."
   ]
  },
  {
   "cell_type": "code",
   "execution_count": 95,
   "id": "17af0d00",
   "metadata": {},
   "outputs": [
    {
     "data": {
      "text/plain": [
       "{'s', 't', 'w', 'z'}"
      ]
     },
     "execution_count": 95,
     "metadata": {},
     "output_type": "execute_result"
    }
   ],
   "source": [
    "# Defining the nodes\n",
    "nodes = ['z','t','s','w']\n",
    "\n",
    "# Initializing both the directed and undirected graph (ADMG)\n",
    "G_b = nx.Graph()\n",
    "G_d = nx.DiGraph()\n",
    "\n",
    "# Adding nodes and edges to the graph\n",
    "for node in nodes:\n",
    "    G_b.add_node(node)\n",
    "    G_d.add_node(node)\n",
    "G_d.add_edge('z','t')\n",
    "G_d.add_edge('w','t')\n",
    "G_d.add_edge('t','s')\n",
    "\n",
    "G_b.add_edge('z','s')\n",
    "G_b.add_edge('z','t')\n",
    "G_b.add_edge('t','w')\n",
    "G_b.add_edge('w','s')\n",
    "HHull(G_d, G_b, {'s'})"
   ]
  },
  {
   "cell_type": "markdown",
   "id": "f470dce2",
   "metadata": {},
   "source": [
    "We now define the dictionary containing the costs of intervention and then we run the first proposed solution: the brute force Min Cost Intervention Algorithm."
   ]
  },
  {
   "cell_type": "code",
   "execution_count": 96,
   "id": "fc79ee36",
   "metadata": {},
   "outputs": [
    {
     "data": {
      "text/plain": [
       "{'t'}"
      ]
     },
     "execution_count": 96,
     "metadata": {},
     "output_type": "execute_result"
    }
   ],
   "source": [
    "# Defining the costs\n",
    "costs = {'z':2, 'w':2, 't':3, 's':1}\n",
    "\n",
    "# Running the algorithm and printing the output\n",
    "MinCostIntervention({'s'},G_d, G_b,costs)"
   ]
  },
  {
   "cell_type": "markdown",
   "id": "f6f051e6",
   "metadata": {},
   "source": [
    "Since the previous solution scales exponentially in the number of nodes, we now implement and try an heuristic approach which might return a sub-optimal solution."
   ]
  },
  {
   "cell_type": "code",
   "execution_count": 97,
   "id": "55ca62f6",
   "metadata": {},
   "outputs": [
    {
     "data": {
      "text/plain": [
       "{'t'}"
      ]
     },
     "execution_count": 97,
     "metadata": {},
     "output_type": "execute_result"
    }
   ],
   "source": [
    "# Running the heuristic algorithm and printing the output\n",
    "heuristic_algorithm(G_d, G_b, {'s'}, costs)"
   ]
  },
  {
   "cell_type": "markdown",
   "id": "4dcf3cc9",
   "metadata": {},
   "source": [
    "As requested in the project description, we run a sanity check to test the correctness of the functions we have implemented."
   ]
  },
  {
   "cell_type": "code",
   "execution_count": 98,
   "id": "f0bb0ac0",
   "metadata": {},
   "outputs": [
    {
     "data": {
      "text/plain": [
       "{'s'}"
      ]
     },
     "execution_count": 98,
     "metadata": {},
     "output_type": "execute_result"
    }
   ],
   "source": [
    "#Sanity check\n",
    "G_d_test = G_d.copy()\n",
    "for node in A:\n",
    "    parents = list(G_d.predecessors(node))\n",
    "\n",
    "    # Remove edges from the parents\n",
    "    for parent in parents:\n",
    "        G_d_test.remove_edge(parent, node)\n",
    "        \n",
    "HHull(G_d_test,G_b, {'s'})"
   ]
  },
  {
   "cell_type": "markdown",
   "id": "12437f02",
   "metadata": {},
   "source": [
    "## Graphs generation"
   ]
  },
  {
   "cell_type": "code",
   "execution_count": null,
   "id": "d89719f2",
   "metadata": {},
   "outputs": [],
   "source": [
    "np.random.seed(42)\n",
    "\n",
    "n_s = np.arange(10,40,3)\n",
    "\n",
    "print(n_s)\n",
    "\n",
    "min_cost_time, heuristic_time = [], []\n",
    "\n",
    "p_directed, p_bidirected = 0.35, 0.25\n",
    "\n",
    "for n in n_s:\n",
    "    \n",
    "    # We create a costs dictionary\n",
    "    costs = {num:np.random.randint(1,5) for num in range(n)}\n",
    "    \n",
    "    # We create the graphs\n",
    "    G_n_directed = nx.DiGraph()\n",
    "    G_n_bidirected = nx.Graph()\n",
    "    \n",
    "    for node in range(n):\n",
    "        G_n_directed.add_node(node)\n",
    "        G_n_bidirected.add_node(node)\n",
    "        \n",
    "    for node1 in range(n):\n",
    "        for node2 in range(n):\n",
    "            if node1 != node2:\n",
    "                flag_directed = np.random.random() < p_directed\n",
    "                flag_bidirected = np.random.random() < p_bidirected\n",
    "                if flag_directed:\n",
    "                    G_n_directed.add_edge(node1,node2)\n",
    "                if flag_bidirected:\n",
    "                    G_n_bidirected.add_edge(node1,node2)\n",
    "    \n",
    "    # We select S\n",
    "    S = set([np.random.randint(n)])\n",
    "    \n",
    "    \n",
    "    # We save running time of both algos (min cost intervention algorithm)\n",
    "    start = time.time()\n",
    "    min_cost_sol = MinCostIntervention( S, G_n_directed, G_n_bidirected, costs)\n",
    "    end = time.time()\n",
    "    min_cost_time.append(end - start)\n",
    "    \n",
    "    # We save running time of both algos (heuristic algorithm)\n",
    "    start = time.time()\n",
    "    min_cost_sol_heuristic = heuristic_algorithm(G_n_directed, G_n_bidirected, S, costs)\n",
    "    end = time.time()\n",
    "    heuristic_time.append(end - start)\n",
    "    \n",
    "    print('Iteration')\n",
    "    print(min_cost_sol, min_cost_sol_heuristic)\n",
    "    \n",
    "\n",
    "plt.plot(n_s, min_cost_time, '-o', label = 'MinCostIntervention')\n",
    "plt.plot(n_s, heuristic_time, '-o', label='Heuristic Algorithm')\n",
    "plt.legend()\n",
    "    "
   ]
  }
 ],
 "metadata": {
  "kernelspec": {
   "display_name": "Python 3 (ipykernel)",
   "language": "python",
   "name": "python3"
  },
  "language_info": {
   "codemirror_mode": {
    "name": "ipython",
    "version": 3
   },
   "file_extension": ".py",
   "mimetype": "text/x-python",
   "name": "python",
   "nbconvert_exporter": "python",
   "pygments_lexer": "ipython3",
   "version": "3.9.16"
  }
 },
 "nbformat": 4,
 "nbformat_minor": 5
}
